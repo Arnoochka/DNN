{
 "cells": [
  {
   "cell_type": "markdown",
   "metadata": {},
   "source": [
    "инициализация библиотек"
   ]
  },
  {
   "cell_type": "code",
   "execution_count": 1,
   "metadata": {},
   "outputs": [],
   "source": [
    "import torch\n",
    "from torch import nn\n",
    "import torch.optim as optim\n",
    "import pickle\n",
    "import numpy as np\n",
    "from tqdm import tqdm\n",
    "import matplotlib.pyplot as plt\n",
    "import torchvision.transforms as transforms\n",
    "from torch.utils.data import TensorDataset, DataLoader"
   ]
  },
  {
   "cell_type": "markdown",
   "metadata": {},
   "source": [
    "перевод датасета в torch.Tensor и его преобразование"
   ]
  },
  {
   "cell_type": "code",
   "execution_count": 24,
   "metadata": {},
   "outputs": [],
   "source": [
    "def get_dataset(X, y, img_transforms):\n",
    "    tensor_x = torch.Tensor(X)\n",
    "    tensor_x = img_transforms(tensor_x)\n",
    "    tensor_y = torch.Tensor(y).long()\n",
    "\n",
    "    dataset = TensorDataset(tensor_x,tensor_y)\n",
    "    return dataset"
   ]
  },
  {
   "cell_type": "markdown",
   "metadata": {},
   "source": [
    "Функция обучения нейронки"
   ]
  },
  {
   "cell_type": "code",
   "execution_count": 25,
   "metadata": {},
   "outputs": [],
   "source": [
    "def train(net: torch.nn.Sequential, train_loader, device, num_epochs, learning_rate):\n",
    "    \n",
    "    optimizer = optim.SGD(net.parameters(), lr=learning_rate, momentum=0.9)\n",
    "    loss_function = torch.nn.CrossEntropyLoss()\n",
    "    acc_history = []\n",
    "    net.to(device)\n",
    "\n",
    "    with tqdm(total=len(train_loader)*num_epochs, position=0, leave=True) as pbar:\n",
    "\n",
    "        for epoch in range(num_epochs):\n",
    "            running_loss = 0.0\n",
    "            correct = 0\n",
    "            total = 0 \n",
    "            \n",
    "            for batch_num, (inputs, labels) in enumerate(train_loader):\n",
    "                # Possibly copy inputs and labels to the GPU\n",
    "                # batch x [48, 48, 1] -> batch x [1, 48, 48]\n",
    "                inputs = inputs.permute(0, 3, 1, 2).to(device)\n",
    "                labels = labels.to(device)\n",
    "                \n",
    "                optimizer.zero_grad()\n",
    "\n",
    "                # Forward pass\n",
    "                outputs = net(inputs)\n",
    "                loss = loss_function(outputs, labels)\n",
    "\n",
    "                # Backpropagation                \n",
    "                loss.backward()\n",
    "\n",
    "                # Update\n",
    "                optimizer.step()\n",
    "\n",
    "                # Print progress\n",
    "                running_loss += loss.item()\n",
    "\n",
    "                # Calculate batch Accuracy\n",
    "                _, predicted = outputs.max(1)\n",
    "                batch_total = labels.size(0)\n",
    "                batch_correct = predicted.eq(labels).sum().item()\n",
    "                batch_acc = batch_correct/batch_total\n",
    "                \n",
    "                pbar.set_description(\"Epoch: %d, Batch: %2d, Loss: %.2f, Acc: %.2f\" % (epoch, batch_num, running_loss, batch_acc))\n",
    "                pbar.update()\n",
    "\n",
    "                total += batch_total\n",
    "                correct += batch_correct\n",
    "\n",
    "            # Print the evaluation metric and reset it for the next epoch\n",
    "            acc = correct/total \n",
    "            acc_history.append(acc)\n",
    "\n",
    "        pbar.close()\n",
    "\n",
    "    return acc_history\n"
   ]
  },
  {
   "cell_type": "markdown",
   "metadata": {},
   "source": [
    "Функция для inference и расчета accurancy "
   ]
  },
  {
   "cell_type": "code",
   "execution_count": 26,
   "metadata": {},
   "outputs": [],
   "source": [
    "def evaluate_acc(net, test_loader, device):\n",
    "\n",
    "    total = 0\n",
    "    correct = 0\n",
    "    \n",
    "    for batch_num, (inputs, labels) in enumerate(test_loader):\n",
    "        # Possibly copy inputs and labels to the GPU\n",
    "        inputs = inputs.permute(0, 3, 1, 2).to(device)\n",
    "        labels = labels.to(device)\n",
    "        \n",
    "        outputs = net(inputs)        \n",
    "        _, predicted = outputs.max(1)\n",
    "        \n",
    "        total += labels.size(0)\n",
    "        correct += predicted.eq(labels).sum().item()\n",
    "        \n",
    "    acc = correct/total\n",
    "    return acc"
   ]
  },
  {
   "cell_type": "code",
   "execution_count": 27,
   "metadata": {},
   "outputs": [],
   "source": [
    "def print_history(history, title):\n",
    "    plt.figure(figsize=(7, 4))\n",
    "    plt.plot(history)\n",
    "    plt.title(title)\n",
    "    plt.ylabel('Accuracy')\n",
    "    plt.xlabel('Epoch')"
   ]
  },
  {
   "cell_type": "code",
   "execution_count": 3,
   "metadata": {},
   "outputs": [
    {
     "name": "stdout",
     "output_type": "stream",
     "text": [
      "Using device: cuda\n"
     ]
    }
   ],
   "source": [
    "device = torch.device('cuda' if torch.cuda.is_available() else 'cpu')\n",
    "print('Using device:', device)"
   ]
  },
  {
   "cell_type": "code",
   "execution_count": 29,
   "metadata": {},
   "outputs": [],
   "source": [
    "train_fh = open('/home/victor/Datasets/Data-Science/lego/lego-train.pickle', 'rb')\n",
    "test_fh = open('/home/victor/Datasets/Data-Science/lego/lego-test.pickle', 'rb')\n",
    "\n",
    "train_data = pickle.load(train_fh)\n",
    "test_data = pickle.load(test_fh)"
   ]
  },
  {
   "cell_type": "markdown",
   "metadata": {},
   "source": [
    "Получение тестового и тренировочного датасета"
   ]
  },
  {
   "cell_type": "code",
   "execution_count": 30,
   "metadata": {},
   "outputs": [
    {
     "data": {
      "text/plain": [
       "<torch.utils.data.dataset.TensorDataset at 0x7c36cff6f3e0>"
      ]
     },
     "execution_count": 30,
     "metadata": {},
     "output_type": "execute_result"
    }
   ],
   "source": [
    "train_data_X = [img for (img, _) in train_data]\n",
    "train_data_y = [lbl for (_, lbl) in train_data]\n",
    "\n",
    "test_data_X = [img for (img, _) in test_data]\n",
    "test_data_y = [lbl for (_, lbl) in test_data]\n",
    "\n",
    "img_transforms = transforms.Compose([\n",
    "    transforms.Normalize(0.13, 0.31)])\n",
    "\n",
    "train_dataset = get_dataset(train_data_X, train_data_y, img_transforms)\n",
    "test_dataset = get_dataset(test_data_X, test_data_y, img_transforms)\n",
    "\n",
    "train_dataset"
   ]
  },
  {
   "cell_type": "markdown",
   "metadata": {},
   "source": [
    "Инициализация сети с 6 слоями"
   ]
  },
  {
   "cell_type": "code",
   "execution_count": 31,
   "metadata": {},
   "outputs": [],
   "source": [
    "def buildCNN():\n",
    "    net = torch.nn.Sequential(\n",
    "    # Input: 48x48\n",
    "    \n",
    "        nn.Conv2d(1, 6, 5, padding=(2,2)), # out: 48x48x6\n",
    "        nn.ReLU(),\n",
    "    \n",
    "        nn.AvgPool2d(kernel_size=(2,2), stride=(2,2)), # out: 24x24x6\n",
    "        nn.ReLU(),\n",
    "    \n",
    "        nn.Conv2d(6, 16, 5), # out: 20x20x16\n",
    "        nn.ReLU(),\n",
    "    \n",
    "        nn.AvgPool2d(kernel_size=(2,2), stride=(2,2)), # out: 10x10x16\n",
    "        nn.ReLU(),\n",
    "    \n",
    "        nn.Conv2d(16, 32, 3, padding=1), # out: 10x10x32\n",
    "        nn.ReLU(),\n",
    "    \n",
    "        nn.AvgPool2d(kernel_size=(2,2), stride=(2,2)), # out: 5x5x32\n",
    "        nn.ReLU(),\n",
    "    \n",
    "        nn.Conv2d(32, 64, 3, padding=1), # out: 5x5x64\n",
    "        nn.ReLU(),\n",
    "    \n",
    "        nn.AvgPool2d(kernel_size=(2,2), stride=(2,2)), # out: 2x2x64\n",
    "\n",
    "        nn.Flatten(),\n",
    "    \n",
    "        nn.Linear(2*2*64, 120),\n",
    "        nn.Tanh(),\n",
    "        \n",
    "        nn.Linear(120, 80),\n",
    "        nn.Sigmoid(),\n",
    "        \n",
    "        nn.Linear(80, 10)\n",
    "    )\n",
    "    return net"
   ]
  },
  {
   "cell_type": "markdown",
   "metadata": {},
   "source": [
    "Обоваричаем датасет в DataLoader для обучения модели и инициализируем переменных: размер батча, количеств оэпох и шаг градиентного спуска"
   ]
  },
  {
   "cell_type": "code",
   "execution_count": 32,
   "metadata": {},
   "outputs": [],
   "source": [
    "BATCH_SIZE = 32\n",
    "EPOCHS = 200\n",
    "LR = 0.001\n",
    "train_loader = DataLoader(train_dataset, batch_size = BATCH_SIZE)\n",
    "test_loader = DataLoader(test_dataset, batch_size = BATCH_SIZE)"
   ]
  },
  {
   "cell_type": "markdown",
   "metadata": {},
   "source": [
    "Инициализация CNN и ее обучение"
   ]
  },
  {
   "cell_type": "code",
   "execution_count": 33,
   "metadata": {},
   "outputs": [
    {
     "name": "stderr",
     "output_type": "stream",
     "text": [
      "Epoch: 0, Batch:  0, Loss: 2.38, Acc: 0.12:   0%|          | 0/3000 [00:00<?, ?it/s]"
     ]
    },
    {
     "name": "stderr",
     "output_type": "stream",
     "text": [
      "Epoch: 199, Batch: 14, Loss: 1.92, Acc: 1.00: 100%|██████████| 3000/3000 [00:09<00:00, 311.08it/s]\n"
     ]
    }
   ],
   "source": [
    "net = buildCNN()\n",
    "hist = train(net, train_loader, device, EPOCHS, LR)"
   ]
  },
  {
   "cell_type": "code",
   "execution_count": 34,
   "metadata": {},
   "outputs": [
    {
     "data": {
      "image/png": "[encoded data removed]",
      "text/plain": [
       "<Figure size 700x400 with 1 Axes>"
      ]
     },
     "metadata": {},
     "output_type": "display_data"
    }
   ],
   "source": [
    "print_history(hist, \"CNN Accuracy\")"
   ]
  },
  {
   "cell_type": "markdown",
   "metadata": {},
   "source": [
    "**Вывод:** можно было остановиться примерно на 150 эпохах"
   ]
  },
  {
   "cell_type": "code",
   "execution_count": null,
   "metadata": {},
   "outputs": [
    {
     "name": "stdout",
     "output_type": "stream",
     "text": [
      "Train accurancy: 1.0 Test accurancy: 1.0\n"
     ]
    }
   ],
   "source": [
    "train_accurancy = evaluate_acc(net, train_loader, device)\n",
    "test_accurancy = evaluate_acc(net, test_loader, device)\n",
    "print(\n",
    "    f\"Train accurancy: {round(train_accurancy, 8)}\",\n",
    "    f\"Test accurancy: {round(test_accurancy, 8)}\"\n",
    ")"
   ]
  }
 ],
 "metadata": {
  "kernelspec": {
   "display_name": "torch",
   "language": "python",
   "name": "python3"
  },
  "language_info": {
   "codemirror_mode": {
    "name": "ipython",
    "version": 3
   },
   "file_extension": ".py",
   "mimetype": "text/x-python",
   "name": "python",
   "nbconvert_exporter": "python",
   "pygments_lexer": "ipython3",
   "version": "3.12.7"
  }
 },
 "nbformat": 4,
 "nbformat_minor": 2
}
